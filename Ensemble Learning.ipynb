{
 "cells": [
  {
   "cell_type": "code",
   "execution_count": 92,
   "metadata": {},
   "outputs": [],
   "source": [
    "import numpy as np\n",
    "import pandas as pd\n",
    "import pickle\n",
    "import gzip\n",
    "from PIL import Image\n",
    "import os"
   ]
  },
  {
   "cell_type": "code",
   "execution_count": 93,
   "metadata": {},
   "outputs": [
    {
     "name": "stdout",
     "output_type": "stream",
     "text": [
      "MNIST Train Target Shape (50000,)\n",
      "MNIST Validation Target Shape (10000,)\n",
      "MNIST Test Target Shape (10000,)\n",
      "UPS Target Data (19999,)\n"
     ]
    }
   ],
   "source": [
    "filename = 'mnist.pkl.gz'\n",
    "f = gzip.open(filename, 'rb')\n",
    "training_data, validation_data, test_data = pickle.load(f, encoding='latin1')\n",
    "f.close()\n",
    "\n",
    "Y_train = training_data[1]\n",
    "Y_val = validation_data[1]\n",
    "Y_test = test_data[1]\n",
    "\n",
    "print('MNIST Train Target Shape', Y_train.shape)\n",
    "print('MNIST Validation Target Shape', Y_val.shape)\n",
    "print('MNIST Test Target Shape', Y_test.shape)\n",
    "\n",
    "## Preprocessing USPS \n",
    "USPSTar  = []\n",
    "curPath  = 'USPSdata/USPSdata/Numerals'\n",
    "\n",
    "for j in range(0,10):\n",
    "    curFolderPath = curPath + '/' + str(j)\n",
    "    imgs =  os.listdir(curFolderPath)\n",
    "    for img in imgs:\n",
    "        curImg = curFolderPath + '/' + img\n",
    "        if curImg[-3:] == 'png':\n",
    "            USPSTar.append(j)\n",
    "\n",
    "\n",
    "UPSPS_target = np.asarray(USPSTar)\n",
    "\n",
    "print('UPS Target Data', UPSPS_target.shape)"
   ]
  },
  {
   "cell_type": "code",
   "execution_count": null,
   "metadata": {},
   "outputs": [],
   "source": []
  },
  {
   "cell_type": "markdown",
   "metadata": {},
   "source": [
    "## Fetch Data"
   ]
  },
  {
   "cell_type": "code",
   "execution_count": 81,
   "metadata": {},
   "outputs": [
    {
     "name": "stdout",
     "output_type": "stream",
     "text": [
      "CNN_MNIST_Train\n",
      "CNN_MNIST_Test\n",
      "CNN_MNIST_Val\n",
      "CNN_MNIST_UPSPS\n",
      "DNN_MNIST_Train\n",
      "DNN_MNIST_Test\n",
      "DNN_MNIST_Val\n",
      "DNN_MNIST_UPSPS\n",
      "LR_MNIST_Train\n",
      "LR_MNIST_Test\n",
      "LR_MNIST_Val\n",
      "LR_MNIST_UPSPS\n",
      "RF_MNIST_Train\n",
      "RF_MNIST_Test\n",
      "RF_MNIST_Val\n",
      "RF_MNIST_UPSPS\n",
      "SVM_MNIST_Train\n",
      "SVM_MNIST_Test\n",
      "SVM_MNIST_Val\n",
      "SVM_MNIST_UPSPS\n"
     ]
    }
   ],
   "source": [
    "Model = ['CNN', 'DNN', 'LR', 'RF', 'SVM']\n",
    "csv = ['.csv']\n",
    "DataType = ['_MNIST_Train', '_MNIST_Test', '_MNIST_Val', '_MNIST_UPSPS']\n",
    "\n",
    "CNN_MNIST_Train = np.genfromtxt(Model[0] + DataType[0] + csv[0], delimiter=',')\n",
    "CNN_MNIST_Test  = np.genfromtxt(Model[0] + DataType[1] + csv[0], delimiter=',')\n",
    "CNN_MNIST_Val   = np.genfromtxt(Model[0] + DataType[2] + csv[0], delimiter=',')\n",
    "CNN_MNIST_UPSPS = np.genfromtxt(Model[0] + DataType[3] + csv[0], delimiter=',')\n",
    "DNN_MNIST_Train = np.genfromtxt(Model[1] + DataType[0] + csv[0], delimiter=',')\n",
    "DNN_MNIST_Test  = np.genfromtxt(Model[1] + DataType[1] + csv[0], delimiter=',')\n",
    "DNN_MNIST_Val   = np.genfromtxt(Model[1] + DataType[2] + csv[0], delimiter=',')\n",
    "DNN_MNIST_UPSPS = np.genfromtxt(Model[1] + DataType[3] + csv[0], delimiter=',')\n",
    "LR_MNIST_Train  = np.genfromtxt(Model[2] + DataType[0] + csv[0], delimiter=',')\n",
    "LR_MNIST_Test   = np.genfromtxt(Model[2] + DataType[1] + csv[0], delimiter=',')\n",
    "LR_MNIST_Val    = np.genfromtxt(Model[2] + DataType[2] + csv[0], delimiter=',')\n",
    "LR_MNIST_UPSPS  = np.genfromtxt(Model[2] + DataType[3] + csv[0], delimiter=',')\n",
    "RF_MNIST_Train  = np.genfromtxt(Model[3] + DataType[0] + csv[0], delimiter=',')\n",
    "RF_MNIST_Test   = np.genfromtxt(Model[3] + DataType[1] + csv[0], delimiter=',')\n",
    "RF_MNIST_Val    = np.genfromtxt(Model[3] + DataType[2] + csv[0], delimiter=',')\n",
    "RF_MNIST_UPSPS  = np.genfromtxt(Model[3] + DataType[3] + csv[0], delimiter=',')\n",
    "SVM_MNIST_Train = np.genfromtxt(Model[4] + DataType[0] + csv[0], delimiter=',')\n",
    "SVM_MNIST_Test  = np.genfromtxt(Model[4] + DataType[1] + csv[0], delimiter=',')\n",
    "SVM_MNIST_Val   = np.genfromtxt(Model[4] + DataType[2] + csv[0], delimiter=',')\n",
    "SVM_MNIST_UPSPS = np.genfromtxt(Model[4] + DataType[3] + csv[0], delimiter=',')\n",
    "\n",
    "#import data \n",
    "for i in range(0, len(Model)):\n",
    "    for j in range(0, len(DataType)):\n",
    "        p = Model[i] + DataType[j]\n",
    "        print(p)"
   ]
  },
  {
   "cell_type": "markdown",
   "metadata": {},
   "source": [
    "## Combing Data"
   ]
  },
  {
   "cell_type": "code",
   "execution_count": 82,
   "metadata": {},
   "outputs": [],
   "source": [
    "CNN_MNIST_Train = CNN_MNIST_Train.reshape(50000,1)\n",
    "DNN_MNIST_Train = DNN_MNIST_Train.reshape(50000,1)\n",
    "LR_MNIST_Train = LR_MNIST_Train.reshape(50000,1)\n",
    "RF_MNIST_Train = RF_MNIST_Train.reshape(50000,1)\n",
    "SVM_MNIST_Train = SVM_MNIST_Train.reshape(50000,1)\n",
    "\n",
    "Train = np.concatenate((CNN_MNIST_Train, DNN_MNIST_Train, LR_MNIST_Train, RF_MNIST_Train, SVM_MNIST_Train), 1)"
   ]
  },
  {
   "cell_type": "code",
   "execution_count": 83,
   "metadata": {},
   "outputs": [],
   "source": [
    "CNN_MNIST_Test = CNN_MNIST_Test.reshape(10000,1)\n",
    "DNN_MNIST_Test = DNN_MNIST_Test.reshape(10000,1)\n",
    "LR_MNIST_Test = LR_MNIST_Test.reshape(10000,1)\n",
    "RF_MNIST_Test = RF_MNIST_Test.reshape(10000,1)\n",
    "SVM_MNIST_Test = SVM_MNIST_Test.reshape(10000,1)\n",
    "\n",
    "Test = np.concatenate((CNN_MNIST_Test, DNN_MNIST_Test, LR_MNIST_Test, RF_MNIST_Test, SVM_MNIST_Test), 1)"
   ]
  },
  {
   "cell_type": "code",
   "execution_count": 84,
   "metadata": {},
   "outputs": [],
   "source": [
    "CNN_MNIST_Val = CNN_MNIST_Val.reshape(10000,1)\n",
    "DNN_MNIST_Val = DNN_MNIST_Val.reshape(10000,1)\n",
    "LR_MNIST_Val = LR_MNIST_Val.reshape(10000,1)\n",
    "RF_MNIST_Val = RF_MNIST_Val.reshape(10000,1)\n",
    "SVM_MNIST_Val = SVM_MNIST_Val.reshape(10000,1)\n",
    "\n",
    "Val = np.concatenate((CNN_MNIST_Val, DNN_MNIST_Val, LR_MNIST_Val, RF_MNIST_Val, SVM_MNIST_Val), 1)"
   ]
  },
  {
   "cell_type": "code",
   "execution_count": 85,
   "metadata": {},
   "outputs": [],
   "source": [
    "CNN_MNIST_UPSPS = CNN_MNIST_UPSPS.reshape(19999,1)\n",
    "DNN_MNIST_UPSPS = DNN_MNIST_UPSPS.reshape(19999,1)\n",
    "LR_MNIST_UPSPS = LR_MNIST_UPSPS.reshape(19999,1)\n",
    "RF_MNIST_UPSPS = RF_MNIST_UPSPS.reshape(19999,1)\n",
    "SVM_MNIST_UPSPS = SVM_MNIST_UPSPS.reshape(19999,1)\n",
    "\n",
    "UPSPS = np.concatenate((CNN_MNIST_UPSPS, DNN_MNIST_UPSPS, LR_MNIST_UPSPS, RF_MNIST_UPSPS, SVM_MNIST_UPSPS), 1)"
   ]
  },
  {
   "cell_type": "markdown",
   "metadata": {},
   "source": [
    "## Majority Voting"
   ]
  },
  {
   "cell_type": "code",
   "execution_count": 62,
   "metadata": {},
   "outputs": [],
   "source": [
    "from scipy import stats"
   ]
  },
  {
   "cell_type": "code",
   "execution_count": 101,
   "metadata": {},
   "outputs": [
    {
     "name": "stdout",
     "output_type": "stream",
     "text": [
      "0.99858\n"
     ]
    }
   ],
   "source": [
    "TrainFinal = []\n",
    "for i in range(0, Train.shape[0]):\n",
    "    mode,count = stats.mode(Train[i])\n",
    "    TrainFinal.append(mode)\n",
    "\n",
    "TrainFinal = np.asarray(TrainFinal)\n",
    "\n",
    "right = 0\n",
    "for i in range(0, Train.shape[0]):\n",
    "    if (TrainFinal[i] == Y_train[i]):\n",
    "        right = right + 1\n",
    "\n",
    "accuracy = right/Train.shape[0]\n",
    "print(accuracy)"
   ]
  },
  {
   "cell_type": "code",
   "execution_count": 100,
   "metadata": {},
   "outputs": [
    {
     "name": "stdout",
     "output_type": "stream",
     "text": [
      "0.9806\n"
     ]
    }
   ],
   "source": [
    "TestFinal = []\n",
    "for i in range(0, Test.shape[0]):\n",
    "    mode,count = stats.mode(Test[i])\n",
    "    TestFinal.append(mode)\n",
    "\n",
    "TestFinal = np.asarray(TestFinal)\n",
    "\n",
    "right = 0\n",
    "wrong = 0\n",
    "for i in range(0, TestFinal.shape[0]):\n",
    "    if (TestFinal[i] == Y_test[i]):\n",
    "        right = right + 1\n",
    "\n",
    "accuracy = right/TestFinal.shape[0]\n",
    "print(accuracy)"
   ]
  },
  {
   "cell_type": "code",
   "execution_count": 102,
   "metadata": {},
   "outputs": [
    {
     "name": "stdout",
     "output_type": "stream",
     "text": [
      "0.9839\n"
     ]
    }
   ],
   "source": [
    "ValFinal = []\n",
    "for i in range(0, Val.shape[0]):\n",
    "    mode,count = stats.mode(Val[i])\n",
    "    ValFinal.append(mode)\n",
    "\n",
    "ValFinal = np.asarray(ValFinal)\n",
    "\n",
    "right = 0\n",
    "wrong = 0\n",
    "for i in range(0, ValFinal.shape[0]):\n",
    "    if (ValFinal[i] == Y_val[i]):\n",
    "        right = right + 1\n",
    "\n",
    "accuracy = right/ValFinal.shape[0]\n",
    "print(accuracy)"
   ]
  },
  {
   "cell_type": "code",
   "execution_count": 103,
   "metadata": {},
   "outputs": [
    {
     "name": "stdout",
     "output_type": "stream",
     "text": [
      "0.5152257612880644\n"
     ]
    }
   ],
   "source": [
    "UPSPSFinal = []\n",
    "for i in range(0, UPSPS.shape[0]):\n",
    "    mode,count = stats.mode(UPSPS[i])\n",
    "    UPSPSFinal.append(mode)\n",
    "\n",
    "UPSPSFinal = np.asarray(UPSPSFinal)\n",
    "\n",
    "right = 0\n",
    "wrong = 0\n",
    "for i in range(0, UPSPSFinal.shape[0]):\n",
    "    if (UPSPSFinal[i] == UPSPS_target[i]):\n",
    "        right = right + 1\n",
    "\n",
    "accuracy = right/UPSPSFinal.shape[0]\n",
    "print(accuracy)"
   ]
  }
 ],
 "metadata": {
  "kernelspec": {
   "display_name": "Python 3",
   "language": "python",
   "name": "python3"
  },
  "language_info": {
   "codemirror_mode": {
    "name": "ipython",
    "version": 3
   },
   "file_extension": ".py",
   "mimetype": "text/x-python",
   "name": "python",
   "nbconvert_exporter": "python",
   "pygments_lexer": "ipython3",
   "version": "3.6.5"
  }
 },
 "nbformat": 4,
 "nbformat_minor": 2
}
